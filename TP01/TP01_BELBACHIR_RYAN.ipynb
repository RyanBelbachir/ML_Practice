{
 "cells": [
  {
   "cell_type": "markdown",
   "id": "45f80e9b",
   "metadata": {},
   "source": [
    "# 2CS SIQ2-SIL2 TP01. Régression linéaire et logistique binaire\n",
    "\n",
    "Dans ce TP, nous allons traiter la régression linéaire et logistique binaire.\n",
    "Dans la partie I, nous allons implémenter les deux méthodes en utilisant numpy.\n",
    "Dans la partie II, quelques expérimentations serons présentées où nous devons discuter les résulats."
   ]
  },
  {
   "attachments": {},
   "cell_type": "markdown",
   "id": "2245b050",
   "metadata": {},
   "source": [
    "- **Binôme 01** : Ryan Belbachir\n",
    "- **Binôme 02** :\n",
    "- **Groupe** : SIL2"
   ]
  },
  {
   "cell_type": "code",
   "execution_count": 1,
   "id": "be907956",
   "metadata": {},
   "outputs": [
    {
     "data": {
      "text/plain": [
       "('1.23.4', '1.5.1', '3.6.2')"
      ]
     },
     "execution_count": 1,
     "metadata": {},
     "output_type": "execute_result"
    }
   ],
   "source": [
    "import matplotlib\n",
    "import numpy             as np\n",
    "import pandas            as pd\n",
    "import matplotlib.pyplot as plt\n",
    "%matplotlib inline\n",
    "\n",
    "np.__version__, pd.__version__, matplotlib.__version__"
   ]
  },
  {
   "cell_type": "code",
   "execution_count": 2,
   "id": "741ccd6f",
   "metadata": {},
   "outputs": [
    {
     "data": {
      "text/plain": [
       "'1.2.0'"
      ]
     },
     "execution_count": 2,
     "metadata": {},
     "output_type": "execute_result"
    }
   ],
   "source": [
    "from typing          import Tuple, List, Type\n",
    "from collections.abc import Callable\n",
    "import sklearn\n",
    "\n",
    "sklearn.__version__"
   ]
  },
  {
   "cell_type": "markdown",
   "id": "e4e3e485",
   "metadata": {},
   "source": [
    "## I. Réalisation des algorithmes\n",
    "\n",
    "Dans cette partie, nous allons implémenter les fonctions de régression à partir de zéro (from scratch). \n",
    "Cela va nous permettre à comprendre COMMENT les algorithmes fonctionnent : leurs complexités (temporelles et spatiales) et leurs paramètres.\n",
    "Pour ce faire, nous allons utiliser la bibliothèque **numpy** qui est utile dans les calcules surtout matricielles.\n",
    "\n",
    "### I.1. Régression linéaire\n",
    "\n",
    "Premièrement, nous allons implémenter les fonctions nécessaire pour la régression linéaire.\n",
    "\n",
    "#### I.1.1. Fonction de prédiction\n",
    "\n",
    "$$Z = zf(X, theta) = \\theta_0 + \\sum\\limits_{j=1}^{N} \\theta_j X_j = \\sum\\limits_{j=0}^{N} \\theta_j X_j | X_0 = 1 $$\n",
    "\n",
    "- **X[M, N]** : une matrice de M échantillons et N caractéristiques. Afin d'introduire $\\theta_0$, cette matrice est augmentée par une colonne $X_0 = 1$. Supposons que cela est déjà fait. Donc, la caractéristique 0  est le biais.\n",
    "- **$\\theta$[N]** : un vecteur des paramètres (poids des caractéristiques). Supposons que le biais est déjà ajouté.\n",
    "- **Z(X, $\\theta$)[M]** : un vecteur des préditions de chaque échantillon."
   ]
  },
  {
   "cell_type": "code",
   "execution_count": 3,
   "id": "535fe535",
   "metadata": {},
   "outputs": [
    {
     "data": {
      "text/plain": [
       "array([1. , 1.7, 2.4])"
      ]
     },
     "execution_count": 3,
     "metadata": {},
     "output_type": "execute_result"
    }
   ],
   "source": [
    "# TODO: Combinaison linéaire\n",
    "def zf(X    : 'np.ndarray[M, N]', \n",
    "       Theta: 'np.ndarray[N]'   ) -> 'np.ndarray[M]':\n",
    "    \n",
    "    return (np.dot(X,Theta))\n",
    "\n",
    "#=====================================================================\n",
    "# TEST UNITAIRE\n",
    "#=====================================================================\n",
    "# Resultat : array([1. , 1.7, 2.4])\n",
    "#---------------------------------------------------------------------\n",
    "X_t     = np.array([[1., 100.], \n",
    "                    [1., 200.], \n",
    "                    [1., 300.]])\n",
    "Theta_t = np.array([0.3, 0.007])\n",
    "zf(X_t, Theta_t)"
   ]
  },
  {
   "cell_type": "markdown",
   "id": "42a9aaa1",
   "metadata": {},
   "source": [
    "#### I.1.2. Fonction du coût\n",
    "\n",
    "La fonction du coût calcule l'erreur d'estimation. \n",
    "Ici, nous allons utiliser l'erreur quadratique moyenne (MSE: mean square error). \n",
    "\n",
    "$$J = MSE(Y, H) = \\frac{1}{2M} \\sum\\limits_{i=1}^{M} (Y - H)^2$$\n",
    "\n",
    "- **Y[M]** : un vecteur des sorties réelles.\n",
    "- **H[M]** : un vecteur des prédictions où $H = Z(X, \\theta)$.\n",
    "- **MSE(Y, H)** : une valeur réelle représentant l'erreur de régression."
   ]
  },
  {
   "cell_type": "code",
   "execution_count": 4,
   "id": "0bb78d63",
   "metadata": {},
   "outputs": [
    {
     "data": {
      "text/plain": [
       "0.016666666666666673"
      ]
     },
     "execution_count": 4,
     "metadata": {},
     "output_type": "execute_result"
    }
   ],
   "source": [
    "# TODO: Fonction du coût MSE\n",
    "def MSE(Y: 'np.ndarray[M]', \n",
    "        H: 'np.ndarray[M]') -> float:\n",
    "    M = len(Y)\n",
    "    return (np.square(Y-H)).sum()*1/(2*M)\n",
    "\n",
    "#=====================================================================\n",
    "# TEST UNITAIRE\n",
    "#=====================================================================\n",
    "# Resultat : 0.016666666666666673\n",
    "#---------------------------------------------------------------------\n",
    "H_t = np.array([1. , 1.7, 2.4])\n",
    "Y_t = np.array([1., 2., 2.5])\n",
    "MSE(Y_t, H_t)"
   ]
  },
  {
   "cell_type": "markdown",
   "id": "e543323b",
   "metadata": {},
   "source": [
    "Le gradient de cette fonction est calculé comme suit (Où $X^{(i)}$ est l'échantillon $i$ et $Y^{(i)}$ est la prédiction. $X_0^{(i)} = 1$) : \n",
    "\n",
    "$$\\frac{\\partial MSE}{\\partial \\theta_j} \n",
    "= \\frac{\\partial }{\\partial \\theta_j} \\frac{1}{2M} \\sum\\limits_{i=1}^{M} (Y^{(i)} - H^{(i)})^2 \n",
    "= \\frac{1}{2M} \\sum\\limits_{i=1}^{M} [\\frac{\\partial }{\\partial \\theta_j} (Y^{(i)} - H^{(i)})^2]\n",
    "= \\frac{1}{2M} \\sum\\limits_{i=1}^{M} [-2 (Y^{(i)} - H^{(i)}) \\frac{\\partial }{\\partial \\theta_j} H^{(i)}]\n",
    "$$\n",
    "\n",
    "$$\\frac{\\partial MSE}{\\partial \\theta_j}\n",
    "= \\frac{1}{M} \\sum\\limits_{i=1}^{M} [(H^{(i)} - Y^{(i)}) \\frac{\\partial }{\\partial \\theta_j} \\sum\\limits_{k=0}^{N} \\theta_k X_k^{(i)}]\n",
    "= \\frac{1}{M} \\sum\\limits_{i=1}^{M} [(H^{(i)} - Y^{(i)}) \\frac{\\partial }{\\partial \\theta_j} \\theta_j X_j^{(i)}]\n",
    "$$\n",
    "\n",
    "$$\\frac{\\partial MSE}{\\partial \\theta_j} = \\frac{1}{M} \\sum\\limits_{i=1}^{M} (H^{(i)} - Y^{(i)}) X_j^{(i)}$$\n",
    "\n",
    "- **X[M, N]** : une matrice de M échantillons et N caractéristiques. \n",
    "- **Y[M]** : un vecteur des sorties réelles.\n",
    "- **H[M]** : un vecteur des prédictions où $H = Z(X, \\theta)$.\n",
    "- **dMSE(X, Y, H)[N]** : les gradients de chaque caractéristique."
   ]
  },
  {
   "cell_type": "code",
   "execution_count": 5,
   "id": "3f82adf2",
   "metadata": {},
   "outputs": [
    {
     "data": {
      "text/plain": [
       "array([ -0.13333333, -30.        ])"
      ]
     },
     "execution_count": 5,
     "metadata": {},
     "output_type": "execute_result"
    }
   ],
   "source": [
    "# TODO: Gradients MSE\n",
    "def dMSE(X: 'np.ndarray[M, N]', \n",
    "         Y: 'np.ndarray[M]'   , \n",
    "         H: 'np.ndarray[M]'   ) -> 'np.ndarray[N]':\n",
    "    M = len(Y)\n",
    "    return (1/M)*(np.dot((H-Y),X))\n",
    "\n",
    "#=====================================================================\n",
    "# TEST UNITAIRE\n",
    "#=====================================================================\n",
    "# Resultat : array([ -0.13333333, -30.        ])\n",
    "#---------------------------------------------------------------------\n",
    "X_t = np.array([[1., 100.], \n",
    "                [1., 200.], \n",
    "                [1., 300.]])\n",
    "H_t = np.array([1. , 1.7, 2.4])\n",
    "Y_t = np.array([1., 2., 2.5])\n",
    "dMSE(X_t, Y_t, H_t)"
   ]
  },
  {
   "cell_type": "markdown",
   "id": "68216bd2",
   "metadata": {},
   "source": [
    "### I.2. Régression logistique\n",
    "\n",
    "Ici, nous allons implémenter la régression logistique qui est basée sur la combinaison linéaire de la régression linaire.\n",
    "Il suffit d'appliquer la fonction logistique sur cette combinaison afin de la transformer à une probabilité.\n",
    "\n",
    "#### I.2.1. Fonction de prédiction\n",
    "\n",
    "La fonction logistique est calculée comme suit :\n",
    "\n",
    "$$\\sigma(Z) = \\frac{1}{1+e^{-Z}}$$\n",
    "\n",
    "- **Z[M]** : un vecteur des sommes pondérées $Z(X, \\theta)$.\n",
    "- **$\\sigma$(Z)[M]** : un vecteur des prédictions. \n",
    "- Normalement, cette fonction doit marcher avec un scalaire, un vecteur ou une matrice. Pour l'instant, nous nous intéressons par le cas d'un vecteur."
   ]
  },
  {
   "cell_type": "code",
   "execution_count": 6,
   "id": "cc7b9af1",
   "metadata": {},
   "outputs": [
    {
     "data": {
      "text/plain": [
       "array([0.26894142, 0.73105858])"
      ]
     },
     "execution_count": 6,
     "metadata": {},
     "output_type": "execute_result"
    }
   ],
   "source": [
    "# TODO: Fonction logistique\n",
    "def sg(Z: 'np.ndarray[M]') -> 'np.ndarray[M]': \n",
    "    return 1/(1+np.exp(-Z))\n",
    "\n",
    "#=====================================================================\n",
    "# TEST UNITAIRE\n",
    "#=====================================================================\n",
    "# Resultat : array([0.26894142, 0.73105858])\n",
    "#---------------------------------------------------------------------\n",
    "sg(np.array([-1, 1]))"
   ]
  },
  {
   "cell_type": "markdown",
   "id": "22dc6e90",
   "metadata": {},
   "source": [
    "La fonction de prédiction sera :\n",
    "\n",
    "$$H(X, \\theta) = \\sigma(Z(X, \\theta)) $$\n",
    "\n",
    "- **X[M, N]** : une matrice de M échantillons et N caractéristiques.\n",
    "- **$\\theta$[N]** : un vecteur des paramètres (poids des caractéristiques).\n",
    "- **Z(X, $\\theta$)[M]** : un vecteur des sommes pondérées de chaque échantillon.\n",
    "- **H(X, $\\theta$)[M]** : un vecteur des prédictions de chaque échantillon."
   ]
  },
  {
   "cell_type": "code",
   "execution_count": 7,
   "id": "85d16e75",
   "metadata": {},
   "outputs": [
    {
     "data": {
      "text/plain": [
       "array([0.73105858, 0.55724785, 0.14185106])"
      ]
     },
     "execution_count": 7,
     "metadata": {},
     "output_type": "execute_result"
    }
   ],
   "source": [
    "# TODO: Prédiction (régression logistique)\n",
    "def Hf_log(X    : 'np.ndarray[M, N]', \n",
    "           Theta: 'np.ndarray[N]'   ) -> 'np.ndarray[M]':\n",
    "    return sg(zf(X,Theta))\n",
    "\n",
    "#=====================================================================\n",
    "# TEST UNITAIRE\n",
    "#=====================================================================\n",
    "# Resultat : array([0.73105858, 0.55724785, 0.14185106])\n",
    "#---------------------------------------------------------------------\n",
    "X_t = np.array([[1., -100.], \n",
    "                [1.,   10.], \n",
    "                [1., 300.]])\n",
    "Theta_t = np.array([0.3, -0.007])\n",
    "Hf_log(X_t, Theta_t)"
   ]
  },
  {
   "cell_type": "markdown",
   "id": "e146af18",
   "metadata": {},
   "source": [
    "#### I.2.2. Fonction du coût\n",
    "\n",
    "Ici, nous allons utiliser l'entropie croisée binaire (BCE: Binary Cross Entropy Loss) comme fonction du coût.\n",
    "C'est la fontion utilisée dans le cas de classement binaire.\n",
    "\n",
    "$$BCE(Y^{(i)}, H^{(i)})\n",
    "= \\begin{cases}\n",
    "- \\log(H^{(i)}) & \\text{ si } Y^{(i)} = 1\\\\ \n",
    "- \\log(1 - H^{(i)})  & \\text{ si } Y^{(i)} = 0\n",
    "\\end{cases}\n",
    "$$\n",
    "Puisque $Y^{(i)} \\in \\{0, 1\\}$, donc : \n",
    "\n",
    "$$ BCE(Y^{(i)}, H^{(i)}) = - Y^{(i)} \\log(H^{(i)}) - (1- Y^{(i)}) \\log(1 - H^{(i)}) $$\n",
    "\n",
    "$$J = BCE(Y, H) = \\frac{-1}{M} \\sum\\limits_{i=1}^{M} [Y^{(i)} \\log(H^{(i)}) + (1- Y^{(i)}) \\log(1 - H^{(i)})]$$\n",
    "\n",
    "En pratique, on doit ajouter une petite valeur $\\epsilon$ à l'argument de la fonction $\\log$ afin d'éviter $\\log(0)$.\n",
    "\n",
    "- **Y[M]** : un vecteur des sorties réelles.\n",
    "- **H[M]** : un vecteur des prédictions.\n",
    "- **BCE(Y, H)** : une valeur réelle représentant l'erreur de classement."
   ]
  },
  {
   "cell_type": "code",
   "execution_count": 8,
   "id": "d315971c",
   "metadata": {},
   "outputs": [
    {
     "data": {
      "text/plain": [
       "(0.6181210324473607, 0.6181210113362499)"
      ]
     },
     "execution_count": 8,
     "metadata": {},
     "output_type": "execute_result"
    }
   ],
   "source": [
    "# TODO: Fonction du coût BCE\n",
    "def BCE(Y  : 'np.ndarray[M]', \n",
    "        H  : 'np.ndarray[M]', \n",
    "        eps: float = 1e-8   ) -> float: \n",
    "    M = len(Y)\n",
    "    return (-1/M)*(np.dot(Y,np.log(H+eps))+np.dot((1-Y),np.log(1-H+eps))) \n",
    "\n",
    "#=====================================================================\n",
    "# TEST UNITAIRE\n",
    "#=====================================================================\n",
    "# Resultat (sans epsilon, avec) : (0.6181210324473608, 0.61812101133625)\n",
    "#---------------------------------------------------------------------\n",
    "Y_t = np.array([1., 0., 0., 1.])\n",
    "H_t = np.array([0.25, 0.25, 0.5, 0.9])\n",
    "BCE(Y_t, H_t, eps=0), BCE(Y_t, H_t)"
   ]
  },
  {
   "cell_type": "markdown",
   "id": "2e251194",
   "metadata": {},
   "source": [
    "Le gradient de cette fonction est calculé comme suit : \n",
    "\n",
    "$$\\frac{\\partial BCE}{\\partial \\theta_j} \n",
    "= \\frac{-1}{M} \\sum\\limits_{i=1}^{M} \\frac{\\partial}{\\partial \\theta_j} [Y^{(i)} \\log(H^{(i)}) + (1- Y^{(i)}) \\log(1 - H^{(i)})]\n",
    "$$\n",
    "\n",
    "$$\\frac{\\partial BCE}{\\partial \\theta_j} \n",
    "= \\frac{-1}{M} \\sum\\limits_{i=1}^{M} [ Y^{(i)} \\frac{\\partial}{\\partial \\theta_j} \\log(H^{(i)}) + (1- Y^{(i)}) \\frac{\\partial}{\\partial \\theta_j}\\log(1 - H^{(i)})]\n",
    "$$\n",
    "\n",
    "$$\\frac{\\partial BCE}{\\partial \\theta_j} \n",
    "= \\frac{-1}{M} \\sum\\limits_{i=1}^{M} [ Y^{(i)} \\frac{1}{H^{(i)}} \\frac{\\partial}{\\partial \\theta_j} H^{(i)} + (1- Y^{(i)}) \\frac{-1}{1-H^{(i)}} \\frac{\\partial}{\\partial \\theta_j} H^{(i)})]\n",
    "= \\frac{-1}{M} \\sum\\limits_{i=1}^{M} \\frac{Y^{(i)}-H^{(i)}}{H^{(i)}(1-H^{(i)})} \\frac{\\partial}{\\partial \\theta_j} H^{(i)}\n",
    "$$\n",
    "\n",
    "$$\\frac{\\partial H^{(i)}}{\\partial \\theta_j} \n",
    "= \\frac{\\partial \\sigma(Z^{(i)})}{\\partial Z^{(i)}} \\frac{\\partial Z^{(i)}}{\\partial \\theta_j} \n",
    "= [\\sigma(Z^{(i)}) (1-\\sigma(Z^{(i)}))]\\frac{\\partial}{\\partial \\theta_j} \\sum\\limits_{k=0}^{N} \\theta_k X_k^{(i)}  \n",
    "= H^{(i)} (1-H^{(i)})  X_j^{(i)}\n",
    "$$\n",
    "\n",
    "$$\\frac{\\partial BCE}{\\partial \\theta_j} \n",
    "= \\frac{-1}{M} \\sum\\limits_{i=1}^{M} \\frac{Y^{(i)}-H^{(i)}}{H^{(i)}(1-H^{(i)})} [H^{(i)} (1-H^{(i)}) X_j^{(i)}]\n",
    "$$\n",
    "\n",
    "$$\\frac{\\partial BCE}{\\partial \\theta_j} = \\frac{1}{M} \\sum\\limits_{i=1}^{M} (H^{(i)} - Y^{(i)}) X_j^{(i)}$$\n",
    "\n",
    "- \n",
    "Où $X^{(i)}$ est l'échantillon $i$ et $Y^{(i)}$ est la prédiction. $X_0^{(i)} = 1$"
   ]
  },
  {
   "cell_type": "code",
   "execution_count": 9,
   "id": "49495c49",
   "metadata": {},
   "outputs": [
    {
     "data": {
      "text/plain": [
       "array([-0.08333333, -0.25      ])"
      ]
     },
     "execution_count": 9,
     "metadata": {},
     "output_type": "execute_result"
    }
   ],
   "source": [
    "# La fonction de gradient BCE est la même que celle de MSE\n",
    "# Donc, je vais l'implémenter moi-même puisque c'est facile\n",
    "dBCE = dMSE\n",
    "\n",
    "#=====================================================================\n",
    "# TEST UNITAIRE\n",
    "#=====================================================================\n",
    "# Resultat : array([-0.08333333, -0.25      ])\n",
    "#---------------------------------------------------------------------\n",
    "X_t = np.array([[1., 5.], \n",
    "                [1., 10.], \n",
    "                [1., 8]])\n",
    "H_t = np.array([2.75, 5.25, 4.25])\n",
    "Y_t = np.array([3., 5., 4.5])\n",
    "dMSE(X_t, Y_t, H_t)"
   ]
  },
  {
   "cell_type": "markdown",
   "id": "d589d278",
   "metadata": {},
   "source": [
    "### I.3. Descente du gradient \n",
    "\n",
    "La descente du gradient est un algorithme itératif.\n",
    "Pour chaque itération, nous calculons l'erreur et le gradient.\n",
    "Ensuite, nous mettons à jours les paramètres en se basant sur ces gradients.\n",
    "Si la condition d'arrêt est satisfaite, nous sortons de l'algorithme.\n",
    "\n",
    "#### I.3.1. Arrêt de la descente\n",
    "\n",
    "Dans notre cas, la fonction d'arrêt est basée sur ces arguments :\n",
    "- L'erreur courante $Jc$ et l'erreur passée $Jp$\n",
    "- Le maximum des itérations $IT$ et l'itération courante $it$\n",
    "\n",
    "Cette fonction retourne $True$ si :\n",
    "- Le nombre maximal des itérations a été atteint\n",
    "- L'argument $up=True$ et l'erreur a augmenté"
   ]
  },
  {
   "cell_type": "code",
   "execution_count": 10,
   "id": "51425024",
   "metadata": {},
   "outputs": [
    {
     "data": {
      "text/plain": [
       "(False, True, True, False)"
      ]
     },
     "execution_count": 10,
     "metadata": {},
     "output_type": "execute_result"
    }
   ],
   "source": [
    "# TODO: Fonction d'arret de la descente du gradient\n",
    "def arreter(Jp: float    , \n",
    "            Jc: float    , \n",
    "            IT: int      , \n",
    "            it: int      , \n",
    "            up: bool=True) -> bool:\n",
    "    if((it == IT) | ((up == True) & (Jc>Jp)) ) :\n",
    "        return True\n",
    "    return False\n",
    "\n",
    "#=====================================================================\n",
    "# TEST UNITAIRE\n",
    "#=====================================================================\n",
    "# Resultat : (False, True, True, False)\n",
    "#---------------------------------------------------------------------\n",
    "arreter(0.5, 0.2, 100, 0), \\\n",
    "arreter(0.1, 0.2, 100, 5), \\\n",
    "arreter(0.5, 0.2, 100, 100), \\\n",
    "arreter(0.1, 0.2, 100, 5, up=False)"
   ]
  },
  {
   "cell_type": "markdown",
   "id": "eada0c36",
   "metadata": {},
   "source": [
    "#### I.3.2. Mise à jours des paramètres\n",
    "\n",
    "Rendre de nouveaux paramètres mis à jours en se basant sur les anciens paramètres $\\theta$, le gradient $\\frac{\\partial J}{\\partial \\theta_j}$ et le taux d'apprentissage $\\alpha$.\n",
    "\n",
    "$$\\forall j \\le N, \\theta_j = \\theta_j - \\alpha \\frac{\\partial J}{\\partial \\theta}$$\n",
    "\n",
    "Il faut rendre un vecteur des paramètres mis à jours sans modifier l'original (principe d'atomacité)"
   ]
  },
  {
   "cell_type": "code",
   "execution_count": 11,
   "id": "928e4d10",
   "metadata": {},
   "outputs": [
    {
     "data": {
      "text/plain": [
       "array([0.30013333, 0.037     ])"
      ]
     },
     "execution_count": 11,
     "metadata": {},
     "output_type": "execute_result"
    }
   ],
   "source": [
    "# TODO: Mise à jours des paramètres\n",
    "def maj_param(Theta: 'np.ndarray[N]', \n",
    "              dJ   : 'np.ndarray[N]', \n",
    "              alpha: float          ) -> 'np.ndarray[N]':\n",
    "    return (Theta - alpha*dJ)\n",
    "\n",
    "#=====================================================================\n",
    "# TEST UNITAIRE\n",
    "#=====================================================================\n",
    "# Resultat : array([0.30013333, 0.037     ])\n",
    "#---------------------------------------------------------------------\n",
    "Theta_t = np.array([0.3, 0.007])\n",
    "Gradient_t = np.array([ -0.13333333, -30.])\n",
    "alpha_t = 0.001\n",
    "maj_param(Theta_t, Gradient_t, alpha_t)"
   ]
  },
  {
   "cell_type": "markdown",
   "id": "dfe2cf09",
   "metadata": {},
   "source": [
    "#### I.3.3. Descente du gradient \n",
    "\n",
    "**Rien à programmer ici**\n",
    "\n",
    "Dans cette fonction, nous allons itérer jusqu'à arriver au nombre max des itérations (pas d'autres conditions d'arrêt).\n",
    "\n",
    "- **X[M, N]** : une matrice de M échantillons et N caractéristiques.\n",
    "- **Y[M]** : un vecteur des sorties réelles.\n",
    "- **$\\theta$[N]** : un vecteur des paramètres (poids des caractéristiques).\n"
   ]
  },
  {
   "cell_type": "code",
   "execution_count": 12,
   "id": "0e909e86",
   "metadata": {},
   "outputs": [
    {
     "data": {
      "text/plain": [
       "(array([ 0.66632271, -0.12058394,  0.93814202]), 0.6851969300532375)"
      ]
     },
     "execution_count": 12,
     "metadata": {},
     "output_type": "execute_result"
    }
   ],
   "source": [
    "# La fonction de la descente du gradient\n",
    "def descente(X    : 'np.ndarray[M, N]', # Matrice des echantillons (obligatoire)\n",
    "             Y    : 'np.ndarray[M]'   , # Vecteur des classes (obligatoire)\n",
    "             Theta: 'np.ndarray[N]'   , # Paramètres (obligatoire)\n",
    "             IT   : int      = 100    , # nombre maximal des itérations\n",
    "             alpha: float    = 0.01   , # taux d'apprentissage\n",
    "             up   : bool     = False  , # si on s'arrete si l'erreur augmente\n",
    "             Hf   : Callable = Hf_log , # la fonction qui calule la sortie\n",
    "             Jf   : Callable = BCE    , # la fonction du coût\n",
    "             dJf  : Callable = dBCE     # la fonction du gradient\n",
    "            ) -> Tuple[List[np.ndarray], List[float]]: \n",
    "     \n",
    "    couts  = []           # historique des coûts\n",
    "    Thetas = []           # historique des thetas\n",
    "    Theta  = Theta.copy() # une copie pour garder le contenu de Theta original\n",
    "    \n",
    "    Hp = Hf(X, Theta)\n",
    "    Jp = Jf(Y, Hp)\n",
    "    it = 0\n",
    "    \n",
    "    # Ici, boucle infinie jusqu'à ce que la condition d'arrêt est atteinte \n",
    "    while True:\n",
    "        Thetas.append(Theta.copy()) # garder une copie des paramètres\n",
    "        couts.append(Jp) # ajouter l'erreur passée\n",
    "    \n",
    "        dJ = dJf(X, Y, Hp) # calculer les gradients passées\n",
    "        Theta = maj_param(Theta, dJ, alpha) # mettre à jours les paramètres\n",
    "        Hc = Hf(X, Theta) # calculer la nouvelle sortie\n",
    "        Jc = Jf(Y, Hc) # calculer la nouvelle erreur\n",
    "        \n",
    "        it += 1 \n",
    "        \n",
    "        if arreter(Jp, Jc, IT, it, up=up):\n",
    "            break # si la condition d'arrêt est satisfaite, sortir\n",
    "        \n",
    "        Jp = Jc\n",
    "        Hp = Hc\n",
    "        \n",
    "    return Thetas, couts\n",
    "\n",
    "#=====================================================================\n",
    "# TEST UNITAIRE\n",
    "#=====================================================================\n",
    "# Resultat : (array([ 0.66632271, -0.12058394,  0.93814202]), 0.6851969300532375)\n",
    "#---------------------------------------------------------------------\n",
    "\n",
    "X_t = np.array([\n",
    "    [1, 1, 0.2],\n",
    "    [1, 2, 0.1],\n",
    "    [1, 3, 0.4],\n",
    "    [1, 4, 0.3]\n",
    "])\n",
    "\n",
    "Theta_t = np.array([1., 1., 1.])\n",
    "\n",
    "Y_t = np.array([1, 0, 1, 0])\n",
    "\n",
    "Theta_P, J_P = descente(X_t, Y_t, Theta_t)\n",
    "\n",
    "Theta_P[-1], J_P[-1]"
   ]
  },
  {
   "cell_type": "markdown",
   "id": "4f01017b",
   "metadata": {},
   "source": [
    "### I.4. Regrouper les fonctions \n",
    "\n",
    "**Rien à programmer ici**\n",
    "\n",
    "Nous voulons créer une classe qui supporte la régression linéaire et la régression logistique.\n"
   ]
  },
  {
   "cell_type": "code",
   "execution_count": 13,
   "id": "c118ece3",
   "metadata": {},
   "outputs": [
    {
     "data": {
      "text/plain": [
       "array([0.86525915, 0.5317788 , 0.9614326 ])"
      ]
     },
     "execution_count": 13,
     "metadata": {},
     "output_type": "execute_result"
    }
   ],
   "source": [
    "# la fonction de normalisation\n",
    "# X: un vecteur de M échantillons et N caractéristiques\n",
    "# mean: un vecteur de N nombres qui représentent les moyennes des caractéristiques\n",
    "# std: un vecteur de N nombres qui représentent les écarts types des caractéristiques\n",
    "# si mean et std ne sont pas donnés, ils vont êtres calculés à partir de X\n",
    "def normaliser(X, mean=None, std=None): \n",
    "    if (mean is None) or (std is None): \n",
    "        mean = np.mean(X, axis=0) \n",
    "        std  = np.std (X, axis=0)\n",
    "    X_norm = np.where(std==0, X, (X - mean)/std)\n",
    "    return X_norm, mean, std\n",
    "\n",
    "def preparer(X, norm=True, const=True, mean=None, std=None): \n",
    "    X_pre = X.copy()\n",
    "    if norm: \n",
    "        X_pre, mean, std = normaliser(X_pre, mean=mean, std=std)\n",
    "    if const:\n",
    "        X_pre = np.append(np.ones((X_pre.shape[0], 1)), X_pre, axis=1)\n",
    "    return X_pre, mean, std\n",
    "\n",
    "def generer_zeros_1(nbr):\n",
    "    return np.zeros(nbr)\n",
    "\n",
    "def generer_uns_1(nbr):\n",
    "    return np.ones(nbr)\n",
    "\n",
    "def generer_aleatoire_1(nbr):\n",
    "    return np.random.rand(nbr)\n",
    "\n",
    "\n",
    "class Regression(object):\n",
    "    def __init__(self, alpha=.01, log=True, norm=True, const=True): \n",
    "        \n",
    "        self.norm  = norm\n",
    "        self.const = const\n",
    "        self.alpha = alpha\n",
    "        self.log   = log\n",
    "        \n",
    "        if log: # Régression logistique\n",
    "            self.Hf  = Hf_log \n",
    "            self.Jf  = BCE\n",
    "            self.dJf = dBCE\n",
    "        else: # Régression linéaire\n",
    "            self.Hf  = zf\n",
    "            self.Jf  = MSE\n",
    "            self.dJf = dMSE\n",
    "        \n",
    "    \n",
    "    def entrainer(self, X, Y, IT=100, up=False): \n",
    "        X_pre, self.mean, self.std = preparer(X, norm=self.norm, const=self.const)\n",
    "        Theta = generer_uns_1(X_pre.shape[1])# Supposons, les paramètres sont initialisés à 1\n",
    "        self.Thetas, self.couts = descente(X_pre, \n",
    "                                           Y, \n",
    "                                           Theta, \n",
    "                                           IT     = IT, \n",
    "                                           alpha  = self.alpha, # arguments de régularisation\n",
    "                                           up     = up,\n",
    "                                           Hf     = self.Hf, # fonction logistique\n",
    "                                           Jf     = self.Jf,\n",
    "                                           dJf    = self.dJf\n",
    "                                          )\n",
    "        \n",
    "    # La prédiction\n",
    "    # si classes=True elle rend un vecteur de 1 et 0\n",
    "    # sinon elle rend un vecteur de probabilités\n",
    "    def predire(self, X, classes=True, seuil=0.5):\n",
    "        X_pre, _, _ = preparer(X, \n",
    "                               norm  = self.norm, \n",
    "                               const = self.const, \n",
    "                               mean  = self.mean, \n",
    "                               std   = self.std\n",
    "                              )\n",
    "        H = self.Hf(X_pre, self.Thetas[-1])\n",
    "        if self.log and classes:\n",
    "            return (H >= seuil).astype(int)\n",
    "        return H\n",
    "\n",
    "#=====================================================================\n",
    "# TEST UNITAIRE\n",
    "#=====================================================================\n",
    "# Resultat : array([0.86525915, 0.5317788 , 0.9614326 ])\n",
    "#---------------------------------------------------------------------\n",
    "\n",
    "X_t = np.array([\n",
    "    [100, 20],\n",
    "    [200, 10],\n",
    "    [300, 40],\n",
    "    [400, 30]\n",
    "])\n",
    "\n",
    "Y_t = np.array([1, 0, 1, 0])\n",
    "\n",
    "# logistique\n",
    "reglog = Regression()\n",
    "reglog.entrainer(X_t, Y_t)\n",
    "\n",
    "reglog.Thetas[-1]"
   ]
  },
  {
   "cell_type": "markdown",
   "id": "72549831",
   "metadata": {},
   "source": [
    "## II. Application et analyse\n",
    "\n",
    "Cette partie sert à appliquer les algorithmes, modifier les hyper-paramètres et analyser les résultats.\n",
    "Son but est de comprendre comment les hyper-paramètres peuvent affeter le fonctionnement d'un algorithme.\n",
    "\n",
    "### II.1. Régression linéaire\n",
    "\n",
    "Pour tester la régression linéaire, nous allons essayer d'estimer les prix des maisons en se basant sur leurs superficies.\n",
    "Pour ce faire, nous allons diviser notre dataset en deux : 80% pour l'entraînement et 20% pour le test (nous avons désactivé la dividion aléatoire afin d'avoir les mêmes résultats à chaque exécution)."
   ]
  },
  {
   "cell_type": "code",
   "execution_count": 14,
   "id": "f3def278",
   "metadata": {},
   "outputs": [
    {
     "data": {
      "text/html": [
       "<div>\n",
       "<style scoped>\n",
       "    .dataframe tbody tr th:only-of-type {\n",
       "        vertical-align: middle;\n",
       "    }\n",
       "\n",
       "    .dataframe tbody tr th {\n",
       "        vertical-align: top;\n",
       "    }\n",
       "\n",
       "    .dataframe thead th {\n",
       "        text-align: right;\n",
       "    }\n",
       "</style>\n",
       "<table border=\"1\" class=\"dataframe\">\n",
       "  <thead>\n",
       "    <tr style=\"text-align: right;\">\n",
       "      <th></th>\n",
       "      <th>Superficie</th>\n",
       "      <th>Prix</th>\n",
       "    </tr>\n",
       "  </thead>\n",
       "  <tbody>\n",
       "    <tr>\n",
       "      <th>0</th>\n",
       "      <td>2104</td>\n",
       "      <td>399900</td>\n",
       "    </tr>\n",
       "    <tr>\n",
       "      <th>1</th>\n",
       "      <td>1600</td>\n",
       "      <td>329900</td>\n",
       "    </tr>\n",
       "    <tr>\n",
       "      <th>2</th>\n",
       "      <td>2400</td>\n",
       "      <td>369000</td>\n",
       "    </tr>\n",
       "    <tr>\n",
       "      <th>3</th>\n",
       "      <td>1416</td>\n",
       "      <td>232000</td>\n",
       "    </tr>\n",
       "    <tr>\n",
       "      <th>4</th>\n",
       "      <td>3000</td>\n",
       "      <td>539900</td>\n",
       "    </tr>\n",
       "  </tbody>\n",
       "</table>\n",
       "</div>"
      ],
      "text/plain": [
       "   Superficie    Prix\n",
       "0        2104  399900\n",
       "1        1600  329900\n",
       "2        2400  369000\n",
       "3        1416  232000\n",
       "4        3000  539900"
      ]
     },
     "execution_count": 14,
     "metadata": {},
     "output_type": "execute_result"
    }
   ],
   "source": [
    "header = ['Superficie', 'Prix']\n",
    "houses = pd.read_csv('data/houses.csv', names=header)\n",
    "houses.head()"
   ]
  },
  {
   "cell_type": "code",
   "execution_count": 15,
   "id": "6068aada",
   "metadata": {},
   "outputs": [
    {
     "data": {
      "text/plain": [
       "(37, 10)"
      ]
     },
     "execution_count": 15,
     "metadata": {},
     "output_type": "execute_result"
    }
   ],
   "source": [
    "from sklearn.model_selection import train_test_split  \n",
    "\n",
    "Xhouses = houses.iloc[:, :-1].values # Premières colonnes \n",
    "Yhouses = houses.iloc[:,  -1].values # Dernière colonne \n",
    "\n",
    "Xhouses_train, Xhouses_test, Yhouses_train, Yhouses_test = train_test_split(Xhouses, Yhouses, \n",
    "                                                                            test_size    = 0.2, \n",
    "                                                                            random_state = 0\n",
    "                                                                           )  \n",
    "\n",
    "len(Xhouses_train), len(Xhouses_test)"
   ]
  },
  {
   "cell_type": "markdown",
   "id": "198937fb",
   "metadata": {},
   "source": [
    "#### II.1.1. Qualité de prediction \n",
    "\n",
    "Ici, nous voulons tester la qualité de prédiction de la régression linéaire : est-ce qu'elle estime les sorties d'une manière exacte ou au moins d'une manière rapprochée. \n",
    "Pour ce faire, nous avons entraîné notre modèle sur les données d'entraînement (en bleu). \n",
    "Ensuite, nous avons essayé d'estimer les résultats de test (en vert : les sorties réelles ; en magenta : les sorties estimées)."
   ]
  },
  {
   "cell_type": "code",
   "execution_count": 16,
   "id": "8488257f",
   "metadata": {},
   "outputs": [
    {
     "data": {
      "image/png": "[encoded data removed]",
      "text/plain": [
       "<Figure size 640x480 with 1 Axes>"
      ]
     },
     "metadata": {},
     "output_type": "display_data"
    }
   ],
   "source": [
    "from sklearn.linear_model  import LinearRegression\n",
    "from sklearn.preprocessing import StandardScaler\n",
    "from sklearn.pipeline      import make_pipeline\n",
    "\n",
    "# Entraînement d'un modèle de régression linéaire \n",
    "regresseur1 = make_pipeline(StandardScaler(with_mean=False), LinearRegression())\n",
    "regresseur1.fit(Xhouses_train, Yhouses_train)\n",
    "\n",
    "Yhouses_pred = regresseur1.predict(Xhouses_test )\n",
    "Yhouses_line = regresseur1.predict(Xhouses_train)  \n",
    "\n",
    "# Visualiser la distribution des données d'entraînement et de test\n",
    "# Aussi, la ligne de prédiction et la prédiction du dataset de test\n",
    "plt.scatter(Xhouses_train, Yhouses_train, color='blue'  , label = 'entrainement'       )\n",
    "plt.scatter(Xhouses_test , Yhouses_test , color='green' , label = 'test'               )\n",
    "plt.plot   (Xhouses_train, Yhouses_line , color='red'   , label = 'ligne de prediction')\n",
    "plt.scatter(Xhouses_test , Yhouses_pred , color='violet', label = 'prediction'         )\n",
    "plt.xlabel('Superficie')\n",
    "plt.ylabel('Prix')\n",
    "plt.legend()\n",
    "plt.show()"
   ]
  },
  {
   "attachments": {},
   "cell_type": "markdown",
   "id": "f564015a",
   "metadata": {},
   "source": [
    "**TODO: Analyser les résultats**\n",
    "\n",
    "- Est-ce que la régression linéaire peut prédire exactement les valeurs Y ?\n",
    "- Pourquoi ?\n",
    "\n",
    "**Réponse** (Réponse étudiant)\n",
    "\n",
    "- Non cette régression n'a pas pu prédire exactement les valeurs Y\n",
    "- Car l'écart entre les valeurs prédites et les de tests et d'entraînements est très grand et cela pour une grande majorité des données donc cela constitue une grand erreur"
   ]
  },
  {
   "cell_type": "markdown",
   "id": "c584dbc0",
   "metadata": {},
   "source": [
    "#### II.1.2. Biais\n",
    "\n",
    "Ici, nous voulons tester l'effet du biais et s'il est toujours utile.\n",
    "Pour ce faire, nous avons entraîné un autre modèle sans biais.\n",
    "Nous avons calculer l'erreur des deux modèles."
   ]
  },
  {
   "cell_type": "code",
   "execution_count": 17,
   "id": "b04a3bb4",
   "metadata": {},
   "outputs": [
    {
     "data": {
      "text/html": [
       "<div>\n",
       "<style scoped>\n",
       "    .dataframe tbody tr th:only-of-type {\n",
       "        vertical-align: middle;\n",
       "    }\n",
       "\n",
       "    .dataframe tbody tr th {\n",
       "        vertical-align: top;\n",
       "    }\n",
       "\n",
       "    .dataframe thead th {\n",
       "        text-align: right;\n",
       "    }\n",
       "</style>\n",
       "<table border=\"1\" class=\"dataframe\">\n",
       "  <thead>\n",
       "    <tr style=\"text-align: right;\">\n",
       "      <th></th>\n",
       "      <th>Modèle</th>\n",
       "      <th>Erreur (MSE)</th>\n",
       "      <th>Erreur (MAE)</th>\n",
       "    </tr>\n",
       "  </thead>\n",
       "  <tbody>\n",
       "    <tr>\n",
       "      <th>0</th>\n",
       "      <td>avec biais</td>\n",
       "      <td>5.821821e+09</td>\n",
       "      <td>69100.263620</td>\n",
       "    </tr>\n",
       "    <tr>\n",
       "      <th>1</th>\n",
       "      <td>sans biais</td>\n",
       "      <td>4.646623e+09</td>\n",
       "      <td>58764.434393</td>\n",
       "    </tr>\n",
       "  </tbody>\n",
       "</table>\n",
       "</div>"
      ],
      "text/plain": [
       "       Modèle  Erreur (MSE)  Erreur (MAE)\n",
       "0  avec biais  5.821821e+09  69100.263620\n",
       "1  sans biais  4.646623e+09  58764.434393"
      ]
     },
     "execution_count": 17,
     "metadata": {},
     "output_type": "execute_result"
    }
   ],
   "source": [
    "from sklearn.metrics       import mean_squared_error\n",
    "from sklearn.metrics       import mean_absolute_error\n",
    "\n",
    "# Entraînement d'un modèle de régression linéaire sans biais\n",
    "regresseur2 = make_pipeline(StandardScaler(with_mean=False), LinearRegression(fit_intercept=False))\n",
    "regresseur2.fit(Xhouses_train, Yhouses_train)\n",
    "\n",
    "Yhouses_pred2 = regresseur2.predict(Xhouses_test )\n",
    "\n",
    "\n",
    "pd.DataFrame({\n",
    "    'Modèle'         : ['avec biais', 'sans biais'],\n",
    "    'Erreur (MSE)'   : [mean_squared_error(Yhouses_test, Yhouses_pred), \n",
    "                        mean_squared_error(Yhouses_test, Yhouses_pred2)],\n",
    "    'Erreur (MAE)'   : [mean_absolute_error(Yhouses_test, Yhouses_pred), \n",
    "                        mean_absolute_error(Yhouses_test, Yhouses_pred2)],\n",
    "})"
   ]
  },
  {
   "attachments": {},
   "cell_type": "markdown",
   "id": "f0fbbee0",
   "metadata": {},
   "source": [
    "**TODO: Analyser les résultats**\n",
    "\n",
    "En se basant sur l'erreur :\n",
    "- Est-ce que le biais est toujours utile ?\n",
    "- Expliquer pourquoi le 2ieme modèle a eu une meilleure performance ?\n",
    "\n",
    "**Réponse** (Réponse étudiant)\n",
    "\n",
    "- D'après les résultats précédents on peut dire que Non le biais n'est pas toujours utile et cela peut être dû à plusieurs facteurs.\n",
    "    - Si le biais est présent dans le modèle de régression linéaire, cela peut entraîner des prédictions inexactes. \n",
    "    - Si le biais est positif, cela signifie que les prédictions sont systématiquement supérieures à la valeur réelle. \n",
    "    - Si le biais est négatif, cela signifie que les prédictions sont systématiquement inférieures à la valeur réelle.\n",
    "- Vu que le biais se réfère à l'écart entre la valeur réelle de la variable dépendante et la valeur prédite par le modèle de régression linéaire. Si le modèle de régression linéaire est biaisé, cela signifie que la moyenne des valeurs prédites est différente de la moyenne des valeurs réelles. Or le 2ième modèle n'est pas biaisais donc les valeurs prédites se rapprochent plus des valeurs réelles."
   ]
  },
  {
   "cell_type": "markdown",
   "id": "f9e682e6",
   "metadata": {},
   "source": [
    "### II.2. Régression logistique binaire\n",
    "\n",
    "Pour tester la régression logistique, nous allons essayer d'estimer si un étudiant est admis en se basant sur deux notes.\n",
    "Bien sûr, il est admis si la moyenne des deux notes est supérieure ou égale à 10. \n",
    "Dans ce cas, la séparation entre admis et non admis est linèaire.\n",
    "Les données d'entraînement et de test ont été générées automatiquement en utilisant le script joint à ce TP."
   ]
  },
  {
   "cell_type": "code",
   "execution_count": 18,
   "id": "8bcfb731",
   "metadata": {},
   "outputs": [
    {
     "data": {
      "text/html": [
       "<div>\n",
       "<style scoped>\n",
       "    .dataframe tbody tr th:only-of-type {\n",
       "        vertical-align: middle;\n",
       "    }\n",
       "\n",
       "    .dataframe tbody tr th {\n",
       "        vertical-align: top;\n",
       "    }\n",
       "\n",
       "    .dataframe thead th {\n",
       "        text-align: right;\n",
       "    }\n",
       "</style>\n",
       "<table border=\"1\" class=\"dataframe\">\n",
       "  <thead>\n",
       "    <tr style=\"text-align: right;\">\n",
       "      <th></th>\n",
       "      <th>Note1</th>\n",
       "      <th>Note2</th>\n",
       "      <th>Admis</th>\n",
       "    </tr>\n",
       "  </thead>\n",
       "  <tbody>\n",
       "    <tr>\n",
       "      <th>0</th>\n",
       "      <td>9.75</td>\n",
       "      <td>16.00</td>\n",
       "      <td>1</td>\n",
       "    </tr>\n",
       "    <tr>\n",
       "      <th>1</th>\n",
       "      <td>2.25</td>\n",
       "      <td>9.50</td>\n",
       "      <td>0</td>\n",
       "    </tr>\n",
       "    <tr>\n",
       "      <th>2</th>\n",
       "      <td>4.50</td>\n",
       "      <td>2.50</td>\n",
       "      <td>0</td>\n",
       "    </tr>\n",
       "    <tr>\n",
       "      <th>3</th>\n",
       "      <td>15.50</td>\n",
       "      <td>10.25</td>\n",
       "      <td>1</td>\n",
       "    </tr>\n",
       "    <tr>\n",
       "      <th>4</th>\n",
       "      <td>3.25</td>\n",
       "      <td>19.50</td>\n",
       "      <td>1</td>\n",
       "    </tr>\n",
       "  </tbody>\n",
       "</table>\n",
       "</div>"
      ],
      "text/plain": [
       "   Note1  Note2  Admis\n",
       "0   9.75  16.00      1\n",
       "1   2.25   9.50      0\n",
       "2   4.50   2.50      0\n",
       "3  15.50  10.25      1\n",
       "4   3.25  19.50      1"
      ]
     },
     "execution_count": 18,
     "metadata": {},
     "output_type": "execute_result"
    }
   ],
   "source": [
    "notes = pd.read_csv('data/notes.csv')\n",
    "\n",
    "# Extraction des caractéristiques \n",
    "X_notes = notes.iloc[:, :-1].values # Premières colonnes \n",
    "Y_notes = notes.iloc[:,  -1].values # Dernière colonne \n",
    "\n",
    "X_notes_norm = X_notes/20 # Nous savons le maximum\n",
    "\n",
    "# créer un normalisateur pour apprendre de l'entrainement et clip avec le test\n",
    "# puisque nous savons la valeur max et min\n",
    "# cette etape est inutile => commenter\n",
    "\n",
    "# from sklearn.preprocessing import MinMaxScaler\n",
    "# mms = MinMaxScaler(clip=True) \n",
    "# X_notes_norm = mms.fit_transform(X_notes)\n",
    "\n",
    "notes.head()"
   ]
  },
  {
   "cell_type": "markdown",
   "id": "44aea63f",
   "metadata": {},
   "source": [
    "#### II.2.1. Normalisation et convergence \n",
    "\n",
    "Nous voulons tester l'effet de la normalisation sur la vitesse de convergence du modèle.\n",
    "Pour ce faire, nous avons entraîné deux modèles : un sans normalisation et l'autre avec normalisation.\n",
    "\n",
    "**Remarque** : le coût n'est pas lisse puisqu'on applique une seule itération avec \"warm start\" afin de controler les iteration en dehors du modèle (récupérer les erreurs pour chaque itération)."
   ]
  },
  {
   "cell_type": "code",
   "execution_count": 19,
   "id": "b545592b",
   "metadata": {},
   "outputs": [
    {
     "data": {
      "image/png": "[encoded data removed]",
      "text/plain": [
       "<Figure size 640x480 with 1 Axes>"
      ]
     },
     "metadata": {},
     "output_type": "display_data"
    }
   ],
   "source": [
    "from sklearn.linear_model import LogisticRegression\n",
    "from sklearn.linear_model import SGDClassifier\n",
    "from sklearn.metrics import log_loss\n",
    "\n",
    "# ce block du code est pour filtrer les avertissements concernant la convergence du modèle\n",
    "# en général, lorsque e nombre des itérations n'est pas suffisant pour atteindre l'erreur minimale\n",
    "import warnings\n",
    "from sklearn.exceptions import ConvergenceWarning\n",
    "warnings.filterwarnings('ignore', category=ConvergenceWarning)\n",
    "\n",
    "ALPHA = 0.01\n",
    "ITMAX = 200\n",
    "\n",
    "# Création des modèles\n",
    "# sans normalisation\n",
    "# reg_log_nonorm = LogisticRegression(penalty=None, max_iter=1, warm_start=True) \n",
    "reg_log_nonorm = SGDClassifier(penalty=None, \n",
    "                               max_iter=1, \n",
    "                               warm_start=True, \n",
    "                               loss='log_loss',\n",
    "                               learning_rate='constant', \n",
    "                               eta0=ALPHA, shuffle=False)\n",
    "# avec normalisation\n",
    "# reg_log_norm   = LogisticRegression(penalty=None, max_iter=1, warm_start=True)   \n",
    "reg_log_norm = SGDClassifier(penalty=None, \n",
    "                               max_iter=1, \n",
    "                               warm_start=True, \n",
    "                               loss='log_loss',\n",
    "                               learning_rate='constant', \n",
    "                               eta0=ALPHA, shuffle=False)\n",
    "\n",
    "# Entraînement des modèles\n",
    "couts_nonorm = []\n",
    "couts_norm   = []\n",
    "for it in range(ITMAX):\n",
    "    reg_log_nonorm.fit(X_notes, Y_notes)\n",
    "    reg_log_norm.fit(X_notes_norm, Y_notes)\n",
    "    couts_nonorm.append(log_loss(Y_notes, reg_log_nonorm.predict(X_notes)))\n",
    "    couts_norm.append(log_loss(Y_notes, reg_log_norm.predict(X_notes_norm)))\n",
    "\n",
    "# Visualisation de la convergence\n",
    "plt.plot(couts_nonorm, label = 'sans normalisation')\n",
    "plt.plot(couts_norm  , label = 'avec normalisation')\n",
    "plt.xlabel('Nombre des itérations')\n",
    "plt.ylabel('Coût')\n",
    "plt.legend()\n",
    "#plt.autoscale()\n",
    "plt.show()"
   ]
  },
  {
   "attachments": {},
   "cell_type": "markdown",
   "id": "12a51ba8",
   "metadata": {},
   "source": [
    "**TODO: Analyser les résultats**\n",
    "\n",
    "- Que remarquez-vous ?\n",
    "- Donner une hypothèse (vitesse de convergence avec normalisation)\n",
    "- Essayer de justifier cette hypothèse par ce que vous avez vu en cours.\n",
    "\n",
    "**Réponse** (Réponse étudiant)\n",
    "\n",
    "- On remarque que le modèle avec normalisation converge plus rapidement que le modèle sans normalisation\n",
    "- La vitesse de convergence est proportionelle à la normalisation du Dataset\n",
    "- La normalisation des données peut aider à accélérer la convergence de la régression linéaire en alignant les valeurs des paramètres du modèle et en évitant les problèmes de conditionnement des matrices. La normalisation évite le débordement des grandes valeurs et aussi met en echelle ces valeurs (grandes et très petites) pour qu'elle soit dans l'interval [0-1] et donc cela va accélérer le convergence. (Cela nous permet d'éviter le phénomène du \"vanishing gradient\" dans le modèle de réseaux de neuronnes.)"
   ]
  },
  {
   "cell_type": "markdown",
   "id": "c71e2488",
   "metadata": {},
   "source": [
    "#### II.2.2. Taux d'apprentissage et convergence \n",
    "\n",
    "Ici, nous avons varié le taux d'apprentissage et affiché les courbes de la fonction objective en fonction de nombre d'itérations. \n",
    "Nous voulons tester l'effet du taux d'apprentissage sur la convergence de notre modèle de régression.\n"
   ]
  },
  {
   "cell_type": "code",
   "execution_count": 20,
   "id": "7a34a29a",
   "metadata": {},
   "outputs": [
    {
     "data": {
      "image/png": "[encoded data removed]",
      "text/plain": [
       "<Figure size 640x480 with 1 Axes>"
      ]
     },
     "metadata": {},
     "output_type": "display_data"
    }
   ],
   "source": [
    "from sklearn.linear_model import SGDClassifier\n",
    "\n",
    "ITMAX  = 100\n",
    "alphas = [1., 0.1, 0.01, 0.001]\n",
    "\n",
    "# Création et entraînement des nouveaux modèles de régression linéaire\n",
    "for alpha in alphas:\n",
    "    # Création d'un nouveau modèle de régression linéaire\n",
    "    modele = SGDClassifier(penalty=None, \n",
    "                          max_iter=1, \n",
    "                          warm_start=True, \n",
    "                          loss='log_loss',\n",
    "                          learning_rate='constant', \n",
    "                          eta0=alpha, shuffle=False)\n",
    "    couts = []\n",
    "    for it in range(ITMAX):\n",
    "        # Entraînement du modèle\n",
    "        modele.fit(X_notes_norm, Y_notes)\n",
    "        couts.append(log_loss(Y_notes, modele.predict(X_notes_norm)))\n",
    "        \n",
    "    # Visualisation de la convergence\n",
    "    plt.plot(couts, label = 'alpha=' + str(alpha))\n",
    "    \n",
    "plt.xlabel('Nombre des itérations')\n",
    "plt.ylabel('Coût')\n",
    "plt.legend()\n",
    "#plt.autoscale()\n",
    "plt.show()"
   ]
  },
  {
   "attachments": {},
   "cell_type": "markdown",
   "id": "eb7143a3",
   "metadata": {},
   "source": [
    "**TODO: Analyser les résultats**\n",
    "\n",
    "- Que remarquez-vous ? (Il faut décrire les résultats).\n",
    "- Donner une hypothèse concernant le rapport entre le taux et la vitesse de convergence.\n",
    "- Essayer de justifier cette hypothèse par ce que vous avez vu en cours.\n",
    "- Pourquoi nous ne devons pas utiliser un taux égale à 1 avec seulement une itération en pratique (quel est le risque) ?\n",
    "\n",
    "**Réponse** (Réponse étudiant)\n",
    "\n",
    "- On remarque que pour une valeur de : \n",
    "    - **Alpha Très grande (1.0)** la vitesse de convergence est très rapide (nb Itérations très petit).\n",
    "    - **Alpha=0.1** on a une vitesse de convergence assez rapide tout en respectant un certain nombre d'itérations par chance lors de la mise à jour des poids on est tombé exactement sur la valeur minimale globale.\n",
    "    - **Alpha = 0.01** on a une vitesse de convergence moyenne.\n",
    "    - **Alpha = 0.001** on a une vitesse de convergence très lente, cette très petite valeur d'alpha peut nous induire dans certains cas dans des valeurs minimales mais locale et non globale.\n",
    "- Un taux d'apprentissage trop grand permet d'avoir une convergence très rapide néanmoins cela impliquer des oscillation dans l'erreur de validation. Inversement, un taux d'apprentissage trop petit permet d'avoir une convergence très lente à cause de la lenteur de mise à jour des poids.\n",
    "- Un taux d'apprentissage plus élevé permet une convergence plus rapide du modèle, car il conduit à des mises à jour plus importantes des poids à chaque itération. Cependant, un taux d'apprentissage trop élevé peut également entraîner des oscillations et des fluctuations dans l'erreur de validation, voire une divergence, car les mises à jour des poids peuvent être trop importantes et perturber la recherche de minimum.\n",
    "Inversement, un taux d'apprentissage trop faible peut ralentir la convergence du modèle, car les mises à jour des poids sont trop petites pour se déplacer efficacement dans l'espace de recherche.\n",
    "- On ne doit pas avoir un taux d'apprentissage = 1 avec seulement une itération en pratique car on aura un très grand risque d'oscillation et fluctuation dans l'erreur de validation, par conséquent notre algorithme sera plus susceptible de diverger."
   ]
  },
  {
   "cell_type": "markdown",
   "id": "28a7ac5e",
   "metadata": {},
   "source": [
    "#### II.2.3. Complexité du modèle et séparation\n",
    "\n",
    "Nous voulons améliorer la séparation entre les deux classes : \"admis\" et \"non admis\". \n",
    "Pour ce faire, nous avons essayer d'utiliser des caractéristiques complexes : $X^3$ et $X^5$."
   ]
  },
  {
   "cell_type": "code",
   "execution_count": 21,
   "id": "a3f24fc0",
   "metadata": {},
   "outputs": [
    {
     "data": {
      "image/png": "[encoded data removed]",
      "text/plain": [
       "<Figure size 1000x500 with 1 Axes>"
      ]
     },
     "metadata": {},
     "output_type": "display_data"
    }
   ],
   "source": [
    "from sklearn.preprocessing import PolynomialFeatures\n",
    "from sklearn.linear_model  import LogisticRegression\n",
    "\n",
    "degres = [3, 5]\n",
    "couleurs=['red', 'magenta', 'blue']\n",
    "\n",
    "# Une fonction pour dessiner le plan de séparation binaire étant donnée un modèle\n",
    "# modele : c'est un modèle enttraîné pour la prédiction binaire\n",
    "# ax: un objet de type matplotlib.axes.Axes; les axes sur lesquels on va dessiner\n",
    "# xrange: une liste des points sur l'axe X\n",
    "# yrange: une liste des points sur l'axe Y\n",
    "# couleur: la couleur du dessin (de la ligne de séparation)\n",
    "# label: l'étiquêtte du dessin (la ligne de séparation)\n",
    "def dessiner2D(modele, ax, xrange, yrange, couleur='red', label=''):\n",
    "    # Créer une matrice de (xrange X yrange): notre plan de dessin\n",
    "    XX   = [[[xr, yr] for xr in xrange] for yr in yrange]\n",
    "    # Représenter le sous forme d'une matrice de (xrange X yrange)/2 échantillons et 2 caractéristiques\n",
    "    XX   = np.array(XX).reshape(-1, 2)\n",
    "    # Prédire les probabilités (estimation) et retransformer vers notre plan (xrange X yrange)\n",
    "    grid = modele.predict(XX).reshape(len(xrange), len(yrange))\n",
    "    # Dessiner des lignes qui passent par les valeurs 0.5\n",
    "    cs   = ax.contour(xrange, yrange, grid, colors=[couleur], linewidths=(1), linestyles=('-'),levels=[0.5])\n",
    "    # Affecter l'étiquêtte à la ligne de séparation (qui es un contour dans notre cas)\n",
    "    # plt.clabel(cs, inline=1, fontsize=10)\n",
    "    # cs.collections[0].set_label(label)\n",
    "    fmt = {cs.levels[0]: label}\n",
    "    ax.clabel(cs, cs.levels, inline=True, fmt=fmt, fontsize=14)\n",
    "    \n",
    "\n",
    "\n",
    "X_notes_train = X_notes[:80, :]\n",
    "X_notes_test  = X_notes[80:, :]\n",
    "Y_notes_train = Y_notes[:80   ]\n",
    "Y_notes_test  = Y_notes[80:   ]\n",
    "\n",
    "# Trouver les indexes ordonnées \n",
    "idx2 = X_notes_train[:,0].argsort()\n",
    "\n",
    "# Sélectionner le cas \"admis\" dans l'entraînement et le test\n",
    "oui_train = Y_notes_train == 1\n",
    "oui_test  = Y_notes_test  == 1\n",
    "\n",
    "# Dessiner les cas \"admis\" et \"Non admis\" de l'entraînement et du test\n",
    "fig, ax = plt.subplots(figsize=(10, 5))\n",
    "ax.scatter(X_notes_train[oui_train, 0], \n",
    "           X_notes_train[oui_train, 1], \n",
    "           color='green', marker='o', label='Admis (entrainement)')\n",
    "ax.scatter(X_notes_train[~oui_train, 0], \n",
    "           X_notes_train[~oui_train, 1], \n",
    "           color='green', marker='x', label='Non Admis (entrainement)')\n",
    "ax.scatter(X_notes_test[oui_test, 0], \n",
    "           X_notes_test[oui_test, 1], \n",
    "           color='red', marker='o', label='Admis (test)')\n",
    "ax.scatter(X_notes_test[~oui_test, 0], \n",
    "           X_notes_test[~oui_test, 1], \n",
    "           color='red', marker='x', label='Non Admis (test)')\n",
    "\n",
    "# Créer l'espace des notes : entre 0 et 20 avec une résolution de 50\n",
    "xrange = np.linspace(0, 20, 50) # Note 1\n",
    "yrange = np.linspace(0, 20, 50) # Note 2\n",
    "\n",
    "# Dessiner la ligne de séparation dans une régression linéaire\n",
    "reglog1 = LogisticRegression(penalty=None)\n",
    "reglog1.fit(X_notes_train, Y_notes_train)\n",
    "dessiner2D(reglog1, ax, xrange, yrange, label='X')\n",
    "\n",
    "modeles = [reglog1]\n",
    "\n",
    "# Dessiner la ligne de séparation dans une régression polynomiale\n",
    "# Le modèle dans ce cas est un pipeline qui commence par créer des caractéristiques polynomiales\n",
    "# ensuite passe le résultat vers un modèle de régression logistique\n",
    "for i in range(len(degres)):\n",
    "    modele = make_pipeline(PolynomialFeatures(degree=degres[i], include_bias=False),\n",
    "                           LogisticRegression(penalty=None))\n",
    "    modele.fit(X_notes_train, Y_notes_train)\n",
    "    dessiner2D(modele, ax, xrange, yrange, couleur=couleurs[i+1], label='X^' + str(degres[i]))\n",
    "    modeles.append(modele)\n",
    "\n",
    "plt.xlabel('Note 1')\n",
    "plt.ylabel('Note 2')\n",
    "plt.legend(loc='upper right')\n",
    "plt.show()"
   ]
  },
  {
   "attachments": {},
   "cell_type": "markdown",
   "id": "dc6b28ab",
   "metadata": {},
   "source": [
    "**TODO: Analyser les résultats**\n",
    "\n",
    "- Que remarquez-vous (les nouveaux modèles ont-ils été capables d'améliorer le modèle initial: l'adjustement/fitting (Dataset d'entraînement) et la généralisation(Dataset de Test)) ? \n",
    "- Donner une hypothèse (Quelle est la raison d'amélioration/détérioration ?) \n",
    "- Essayer de justifier cette hypothèse par ce que vous avez vu en cours.\n",
    "\n",
    "**Réponse** (Réponse étudiant)\n",
    "\n",
    "- On remarque que les deux modèles n'ont pas amélioré le modèle initial car ils ont fait du sur apprentissage\n",
    "- Ajouter des caractéristique et de la complexité ne donne pas toujours une amélioration du modèle il peut aussi engender un sur apprentissage\n",
    "- Augmenter le degré de complexité peut améliorer certe dans certains cas l'ajustement, mais cette grande augmentation de la complexité peut aussi impliquer un plus grand ajustement par rapport aux données d'entrainement. Donc notre modèle va prendre en considération le bruit => sur apprentissage."
   ]
  }
 ],
 "metadata": {
  "kernelspec": {
   "display_name": "Python 3 (ipykernel)",
   "language": "python",
   "name": "python3"
  },
  "language_info": {
   "codemirror_mode": {
    "name": "ipython",
    "version": 3
   },
   "file_extension": ".py",
   "mimetype": "text/x-python",
   "name": "python",
   "nbconvert_exporter": "python",
   "pygments_lexer": "ipython3",
   "version": "3.10.10"
  }
 },
 "nbformat": 4,
 "nbformat_minor": 5
}
