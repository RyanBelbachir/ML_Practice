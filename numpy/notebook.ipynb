{
 "cells": [
  {
   "attachments": {},
   "cell_type": "markdown",
   "metadata": {},
   "source": [
    "# WORKSHOP NUMPY"
   ]
  },
  {
   "attachments": {},
   "cell_type": "markdown",
   "metadata": {},
   "source": [
    "## Statistiques d'engagement"
   ]
  },
  {
   "cell_type": "code",
   "execution_count": 2084,
   "metadata": {},
   "outputs": [],
   "source": [
    "import numpy as np\n",
    "import pandas as pd"
   ]
  },
  {
   "attachments": {},
   "cell_type": "markdown",
   "metadata": {},
   "source": [
    "### Visualisation of Data : "
   ]
  },
  {
   "attachments": {},
   "cell_type": "markdown",
   "metadata": {},
   "source": [
    "#### 1/- Reply"
   ]
  },
  {
   "cell_type": "code",
   "execution_count": 2085,
   "metadata": {},
   "outputs": [
    {
     "data": {
      "text/plain": [
       "array([[1, 5, 5, 0, 3],\n",
       "       [2, 0, 5, 0, 3],\n",
       "       [0, 0, 0, 0, 0],\n",
       "       [2, 0, 0, 4, 0],\n",
       "       [0, 4, 2, 0, 0]])"
      ]
     },
     "execution_count": 2085,
     "metadata": {},
     "output_type": "execute_result"
    }
   ],
   "source": [
    "reply = np.array([(1,5,5,0,3),(2,0,5,0,3),(0,0,0,0,0),(2,0,0,4,0),(0,4,2,0,0)])\n",
    "reply"
   ]
  },
  {
   "attachments": {},
   "cell_type": "markdown",
   "metadata": {},
   "source": [
    "#### 2/- Retweet"
   ]
  },
  {
   "cell_type": "code",
   "execution_count": 2086,
   "metadata": {},
   "outputs": [
    {
     "data": {
      "text/plain": [
       "array([[0, 2, 4, 0, 0],\n",
       "       [0, 0, 0, 0, 0],\n",
       "       [0, 0, 0, 0, 0],\n",
       "       [0, 0, 0, 4, 3],\n",
       "       [0, 2, 5, 0, 0]])"
      ]
     },
     "execution_count": 2086,
     "metadata": {},
     "output_type": "execute_result"
    }
   ],
   "source": [
    "retweet = np.array([(0,2,4,0,0),(0,0,0,0,0),(0,0,0,0,0),(0,0,0,4,3),(0,2,5,0,0)])\n",
    "retweet"
   ]
  },
  {
   "attachments": {},
   "cell_type": "markdown",
   "metadata": {},
   "source": [
    "#### 3/- Like"
   ]
  },
  {
   "cell_type": "code",
   "execution_count": 2087,
   "metadata": {},
   "outputs": [
    {
     "data": {
      "text/plain": [
       "array([[2, 5, 1, 0, 3],\n",
       "       [0, 0, 0, 0, 0],\n",
       "       [0, 5, 0, 3, 3],\n",
       "       [1, 0, 0, 4, 1],\n",
       "       [0, 0, 9, 0, 0]])"
      ]
     },
     "execution_count": 2087,
     "metadata": {},
     "output_type": "execute_result"
    }
   ],
   "source": [
    "like = np.array([(2,5,1,0,3),(0,0,0,0,0),(0,5,0,3,3),(1,0,0,4,1),(0,0,9,0,0)])\n",
    "like"
   ]
  },
  {
   "attachments": {},
   "cell_type": "markdown",
   "metadata": {},
   "source": [
    "#### 4/- Tweets"
   ]
  },
  {
   "cell_type": "code",
   "execution_count": 2088,
   "metadata": {},
   "outputs": [
    {
     "data": {
      "text/plain": [
       "array([ 2,  5, 10,  4,  3])"
      ]
     },
     "execution_count": 2088,
     "metadata": {},
     "output_type": "execute_result"
    }
   ],
   "source": [
    "tweets = np.array([2, 5, 10, 4, 3])\n",
    "tweets"
   ]
  },
  {
   "attachments": {},
   "cell_type": "markdown",
   "metadata": {},
   "source": [
    "#### 5/- Users"
   ]
  },
  {
   "cell_type": "code",
   "execution_count": 2089,
   "metadata": {},
   "outputs": [],
   "source": [
    "appUsers = [0, 1, 2, 3, 4]"
   ]
  },
  {
   "attachments": {},
   "cell_type": "markdown",
   "metadata": {},
   "source": [
    "### Answering Question"
   ]
  },
  {
   "attachments": {},
   "cell_type": "markdown",
   "metadata": {},
   "source": [
    "#### 1/- User with max Replies"
   ]
  },
  {
   "cell_type": "code",
   "execution_count": 2090,
   "metadata": {},
   "outputs": [],
   "source": [
    "def maxUser(tab):\n",
    "    user = np.argmax(tab.cumsum(axis=1)[:,-1],axis=0)\n",
    "    value = tab.max(axis=1)[user]\n",
    "    return user,value\n"
   ]
  },
  {
   "cell_type": "code",
   "execution_count": 2091,
   "metadata": {},
   "outputs": [
    {
     "name": "stdout",
     "output_type": "stream",
     "text": [
      "The user with the most replies is  0\n",
      "with a value of :  5\n"
     ]
    }
   ],
   "source": [
    "user,value=maxUser(reply)\n",
    "print(\"The user with the most replies is \", user)\n",
    "print(\"with a value of : \",value)"
   ]
  },
  {
   "attachments": {},
   "cell_type": "markdown",
   "metadata": {},
   "source": [
    "#### 2/- User with max Retweets"
   ]
  },
  {
   "cell_type": "code",
   "execution_count": 2092,
   "metadata": {},
   "outputs": [
    {
     "name": "stdout",
     "output_type": "stream",
     "text": [
      "The user with the most retweets is  3\n",
      "with a value of :  4\n"
     ]
    }
   ],
   "source": [
    "user,value=maxUser(retweet)\n",
    "print(\"The user with the most retweets is \", user)\n",
    "print(\"with a value of : \",value)"
   ]
  },
  {
   "attachments": {},
   "cell_type": "markdown",
   "metadata": {},
   "source": [
    "#### 3/- Users that does neither Reply nor Retweet"
   ]
  },
  {
   "cell_type": "code",
   "execution_count": 2093,
   "metadata": {},
   "outputs": [],
   "source": [
    "def getOnCond(table,cond):\n",
    "    arr = table.cumsum(axis=1)[:,-1]\n",
    "    res= np.array(np.where(arr==cond))\n",
    "    return res[0].tolist()"
   ]
  },
  {
   "cell_type": "code",
   "execution_count": 2094,
   "metadata": {},
   "outputs": [],
   "source": [
    "def intersection(lst1, lst2):\n",
    "    lst3 = [value for value in lst1 if value in lst2]\n",
    "    return lst3"
   ]
  },
  {
   "cell_type": "code",
   "execution_count": 2095,
   "metadata": {},
   "outputs": [],
   "source": [
    "def elementFromList(table,index):\n",
    "    tmp = []\n",
    "    for i in index :\n",
    "        tmp.append(table[i])\n",
    "    return tmp"
   ]
  },
  {
   "cell_type": "code",
   "execution_count": 2096,
   "metadata": {},
   "outputs": [
    {
     "name": "stdout",
     "output_type": "stream",
     "text": [
      "The users with no replies are  [2]\n",
      "The users with no retweets are  [1, 2]\n",
      "The users with neither replies nor retweets are :  [2]\n"
     ]
    }
   ],
   "source": [
    "user=getOnCond(reply,0)\n",
    "print(\"The users with no replies are \", user)\n",
    "\n",
    "user2=getOnCond(retweet,0)\n",
    "\n",
    "print(\"The users with no retweets are \", user2)\n",
    "\n",
    "users = elementFromList(appUsers,intersection(user,user2))\n",
    "\n",
    "print(\"The users with neither replies nor retweets are : \", users)"
   ]
  },
  {
   "attachments": {},
   "cell_type": "markdown",
   "metadata": {},
   "source": [
    "#### 4/- Number of likes that every user has given himself :"
   ]
  },
  {
   "cell_type": "code",
   "execution_count": 2097,
   "metadata": {},
   "outputs": [],
   "source": [
    "def getDiag(matrix):\n",
    "    diag = []\n",
    "    i=0\n",
    "    while (i < len(matrix[0])):\n",
    "        j=0\n",
    "        while( j < len(matrix[1])):\n",
    "            if(i==j):\n",
    "                diag.append({\"user\":i,\"nbLikes\":matrix[i][j]})\n",
    "            j+=1\n",
    "        i+=1\n",
    "    return diag"
   ]
  },
  {
   "cell_type": "code",
   "execution_count": 2098,
   "metadata": {},
   "outputs": [
    {
     "name": "stdout",
     "output_type": "stream",
     "text": [
      "Number of likes that every user has given himself : \n",
      "user :  0  number of likes :  2\n",
      "user :  1  number of likes :  0\n",
      "user :  2  number of likes :  0\n",
      "user :  3  number of likes :  4\n",
      "user :  4  number of likes :  0\n"
     ]
    }
   ],
   "source": [
    "listLikes=getDiag(like)\n",
    "print(\"Number of likes that every user has given himself : \")\n",
    "for elem in listLikes :\n",
    "    print(\"user : \", elem[\"user\"], \" number of likes : \", elem[\"nbLikes\"])"
   ]
  },
  {
   "attachments": {},
   "cell_type": "markdown",
   "metadata": {},
   "source": [
    "#### 5/- Number of Likes of each user for other users beside himself :"
   ]
  },
  {
   "cell_type": "code",
   "execution_count": 2099,
   "metadata": {},
   "outputs": [
    {
     "name": "stdout",
     "output_type": "stream",
     "text": [
      "Number of likes that every user has given to other users : \n",
      "user :  0  number of likes :  9\n",
      "user :  1  number of likes :  0\n",
      "user :  2  number of likes :  11\n",
      "user :  3  number of likes :  2\n",
      "user :  4  number of likes :  9\n"
     ]
    }
   ],
   "source": [
    "tmp = like.cumsum(axis=1)[:,-1]\n",
    "likeOtherUsers = [{\"user\":i,\"nbLikes\":value-listLikes[i][\"nbLikes\"]} for i,value in enumerate(tmp)]\n",
    "print(\"Number of likes that every user has given to other users : \")\n",
    "for elem in likeOtherUsers :\n",
    "    print(\"user : \", elem[\"user\"], \" number of likes : \", elem[\"nbLikes\"])"
   ]
  },
  {
   "attachments": {},
   "cell_type": "markdown",
   "metadata": {},
   "source": [
    "#### 6/- The users that like their own tweets more than the other's"
   ]
  },
  {
   "cell_type": "code",
   "execution_count": 2100,
   "metadata": {},
   "outputs": [
    {
     "data": {
      "text/plain": [
       "[{'user': 3, 'nbLikes': 2}]"
      ]
     },
     "execution_count": 2100,
     "metadata": {},
     "output_type": "execute_result"
    }
   ],
   "source": [
    "ownLikeMore = []\n",
    "for i,elem in enumerate(likeOtherUsers):\n",
    "    if(listLikes[i][\"nbLikes\"] > elem[\"nbLikes\"]):\n",
    "        ownLikeMore.append(elem)\n",
    "ownLikeMore"
   ]
  },
  {
   "attachments": {},
   "cell_type": "markdown",
   "metadata": {},
   "source": [
    "#### 7/- The number of those users : "
   ]
  },
  {
   "cell_type": "code",
   "execution_count": 2101,
   "metadata": {},
   "outputs": [
    {
     "data": {
      "text/plain": [
       "1"
      ]
     },
     "execution_count": 2101,
     "metadata": {},
     "output_type": "execute_result"
    }
   ],
   "source": [
    "len(ownLikeMore)"
   ]
  },
  {
   "attachments": {},
   "cell_type": "markdown",
   "metadata": {},
   "source": [
    "#### 8/- Number of Interactions of each user :"
   ]
  },
  {
   "cell_type": "code",
   "execution_count": 2102,
   "metadata": {},
   "outputs": [
    {
     "name": "stdout",
     "output_type": "stream",
     "text": [
      "user :  0  number of interactions :  31\n",
      "user :  1  number of interactions :  10\n",
      "user :  2  number of interactions :  11\n",
      "user :  3  number of interactions :  19\n",
      "user :  4  number of interactions :  22\n"
     ]
    }
   ],
   "source": [
    "tmp_interactions = (like+reply+retweet).cumsum(axis=1)[:,-1]\n",
    "interactions = []\n",
    "for i,inter in enumerate(tmp_interactions):\n",
    "    interactions.append({\"user\":i,\"nbInteractions\":inter})\n",
    "for elem in interactions :\n",
    "    print(\"user : \", elem[\"user\"], \" number of interactions : \", elem[\"nbInteractions\"])"
   ]
  },
  {
   "attachments": {},
   "cell_type": "markdown",
   "metadata": {},
   "source": [
    "## Statistiques sur les interactions"
   ]
  },
  {
   "attachments": {},
   "cell_type": "markdown",
   "metadata": {},
   "source": [
    "#### 1/-Number of likes of each user :"
   ]
  },
  {
   "cell_type": "code",
   "execution_count": 2103,
   "metadata": {},
   "outputs": [
    {
     "name": "stdout",
     "output_type": "stream",
     "text": [
      "user :  0  has recieved in total :  31  likes\n",
      "user :  1  has recieved in total :  10  likes\n",
      "user :  2  has recieved in total :  11  likes\n",
      "user :  3  has recieved in total :  19  likes\n",
      "user :  4  has recieved in total :  22  likes\n"
     ]
    }
   ],
   "source": [
    "nbLikeAllUsers = like*(1-np.eye(len(like))).astype(int)\n",
    "nbLikeAllUsers.cumsum(axis=0)[-1,:]\n",
    "tmp = []\n",
    "for i,inter in enumerate(tmp_interactions):\n",
    "    tmp.append({\"user\":i,\"nbLikes\":inter})\n",
    "for elem in tmp :\n",
    "    print(\"user : \", elem[\"user\"], \" has recieved in total : \", elem[\"nbLikes\"],\" likes\")"
   ]
  },
  {
   "attachments": {},
   "cell_type": "markdown",
   "metadata": {},
   "source": [
    "#### 2/- Users that liked all the tweets of other users :"
   ]
  },
  {
   "cell_type": "code",
   "execution_count": 2104,
   "metadata": {},
   "outputs": [
    {
     "name": "stdout",
     "output_type": "stream",
     "text": [
      "[False False False False False]\n",
      "The users that like all the tweets of the user  0  are :  []\n",
      "[ True False  True False False]\n",
      "The users that like all the tweets of the user  1  are :  [0 2]\n",
      "[False False False False False]\n",
      "The users that like all the tweets of the user  2  are :  []\n",
      "[False False False False False]\n",
      "The users that like all the tweets of the user  3  are :  []\n",
      "[ True False  True False False]\n",
      "The users that like all the tweets of the user  4  are :  [0 2]\n"
     ]
    }
   ],
   "source": [
    "\n",
    "## A REFAIRE ##\n",
    "tmp = like*(1-np.eye(len(like))).astype(int)\n",
    "tmp_x = tweets\n",
    "tmp_k=[]\n",
    "i=0\n",
    "tmp_x= tweets\n",
    "tmp_k=(tweets == tmp)*(tmp_x>0)\n",
    "while(i<len(tweets)):\n",
    "    print(tmp_k[:,i])\n",
    "    print(\"The users that like all the tweets of the user \", i, \" are : \",np.array(np.where(tmp_k[:,i]==True))[0])\n",
    "    i+=1\n"
   ]
  },
  {
   "attachments": {},
   "cell_type": "markdown",
   "metadata": {},
   "source": [
    "#### 3+4/- Number of Outgoing and Incoming arcs :"
   ]
  },
  {
   "cell_type": "code",
   "execution_count": 2105,
   "metadata": {},
   "outputs": [],
   "source": [
    "sumMatrix = reply+retweet+like\n",
    "tmp_arcs = np.array(np.where(sumMatrix>0))\n",
    "tmp_out=tmp_arcs[0]\n",
    "tmp_in=tmp_arcs[1]"
   ]
  },
  {
   "cell_type": "code",
   "execution_count": 2106,
   "metadata": {},
   "outputs": [],
   "source": [
    "def getOccuElem(table1,table2):\n",
    "    tmp = []\n",
    "    i=0\n",
    "    while(i<len(tweets)) :\n",
    "        tmp.append({\"user\":i,\"nbIncomingArcs\":np.count_nonzero(table1 == i),\"nbOutgoingArcs\":np.count_nonzero(table2 == i)})\n",
    "        i+=1\n",
    "    return tmp\n"
   ]
  },
  {
   "cell_type": "code",
   "execution_count": 2107,
   "metadata": {},
   "outputs": [
    {
     "data": {
      "text/plain": [
       "[{'user': 0, 'nbIncomingArcs': 3, 'nbOutgoingArcs': 4},\n",
       " {'user': 1, 'nbIncomingArcs': 3, 'nbOutgoingArcs': 3},\n",
       " {'user': 2, 'nbIncomingArcs': 3, 'nbOutgoingArcs': 3},\n",
       " {'user': 3, 'nbIncomingArcs': 2, 'nbOutgoingArcs': 3},\n",
       " {'user': 4, 'nbIncomingArcs': 4, 'nbOutgoingArcs': 2}]"
      ]
     },
     "execution_count": 2107,
     "metadata": {},
     "output_type": "execute_result"
    }
   ],
   "source": [
    "arcs = getOccuElem(tmp_in,tmp_out)\n",
    "arcs"
   ]
  },
  {
   "attachments": {},
   "cell_type": "markdown",
   "metadata": {},
   "source": [
    "#### 5/- The nodes (Users) that have the name number of Incoming and Outgoing Arcs :"
   ]
  },
  {
   "cell_type": "code",
   "execution_count": 2108,
   "metadata": {},
   "outputs": [
    {
     "data": {
      "text/plain": [
       "[{'user': 1, 'nbIncomingArcs': 3, 'nbOutgoingArcs': 3},\n",
       " {'user': 2, 'nbIncomingArcs': 3, 'nbOutgoingArcs': 3}]"
      ]
     },
     "execution_count": 2108,
     "metadata": {},
     "output_type": "execute_result"
    }
   ],
   "source": [
    "equiNodesInteractions = []\n",
    "for elem in arcs :\n",
    "    if(elem[\"nbIncomingArcs\"] == elem[\"nbOutgoingArcs\"]):\n",
    "        equiNodesInteractions.append(elem)\n",
    "equiNodesInteractions"
   ]
  },
  {
   "attachments": {},
   "cell_type": "markdown",
   "metadata": {},
   "source": [
    "#### 6/- The Likes between those who have the same number of Incoming and Outgoing Arcs :"
   ]
  },
  {
   "cell_type": "code",
   "execution_count": 2109,
   "metadata": {},
   "outputs": [
    {
     "name": "stdout",
     "output_type": "stream",
     "text": [
      "The users :  1  and  2  did like eeach other's tweet\n"
     ]
    }
   ],
   "source": [
    "tmp_arcs\n",
    "tmp_x = intersection(np.array(np.where(tmp_arcs[0]==1))[0],np.array(np.where(tmp_arcs[1]==2))[0])\n",
    "list1 = elementFromList(tmp_arcs[0],tmp_x)\n",
    "list2 = elementFromList(tmp_arcs[1],tmp_x)\n",
    "for i,elem in enumerate(list1) :\n",
    "    print(\"The users : \",elem,\" and \",list2[i], \" did like eeach other's tweet\")"
   ]
  },
  {
   "attachments": {},
   "cell_type": "markdown",
   "metadata": {},
   "source": [
    "## Popularity"
   ]
  },
  {
   "cell_type": "code",
   "execution_count": 2110,
   "metadata": {},
   "outputs": [],
   "source": [
    "tmp_like = like*(1-np.eye(len(appUsers))).astype(int)\n",
    "tmp_reply = reply*(1-np.eye(len(appUsers))).astype(int)"
   ]
  },
  {
   "attachments": {},
   "cell_type": "markdown",
   "metadata": {},
   "source": [
    "#### 1/- Score Reply :"
   ]
  },
  {
   "cell_type": "code",
   "execution_count": 2111,
   "metadata": {},
   "outputs": [
    {
     "data": {
      "text/plain": [
       "array([-6.5, -5. ,  0. , -0.5,  0. ])"
      ]
     },
     "execution_count": 2111,
     "metadata": {},
     "output_type": "execute_result"
    }
   ],
   "source": [
    "sumLike=tmp_like.cumsum(axis=1)[:,-1]\n",
    "sumReply=tmp_reply.cumsum(axis=1)[:,-1]\n",
    "scoreReply = np.array(np.where(sumReply<sumLike,sumReply*0,0))+np.array(np.where(sumReply==sumLike,sumReply*-0.25,0))+np.array(np.where(sumReply>sumLike,sumReply*-0.5,0))\n",
    "scoreReply"
   ]
  },
  {
   "attachments": {},
   "cell_type": "markdown",
   "metadata": {},
   "source": [
    "#### 2/- Score Retweet :"
   ]
  },
  {
   "cell_type": "code",
   "execution_count": 2112,
   "metadata": {},
   "outputs": [
    {
     "data": {
      "text/plain": [
       "array([-1.5 , -0.  , -0.  ,  7.  , -1.75])"
      ]
     },
     "execution_count": 2112,
     "metadata": {},
     "output_type": "execute_result"
    }
   ],
   "source": [
    "diag = getDiag(retweet)\n",
    "diagRetweet = []\n",
    "for elem in diag :\n",
    "    diagRetweet.append(elem[\"nbLikes\"])\n",
    "scoreRetweet = retweet.cumsum(axis=1)[:,-1]\n",
    "scoreRetweet = np.where(np.array(diagRetweet)>0,scoreRetweet,scoreRetweet*-0.25)\n",
    "scoreRetweet"
   ]
  },
  {
   "attachments": {},
   "cell_type": "markdown",
   "metadata": {},
   "source": [
    "#### 3/- Score Like :"
   ]
  },
  {
   "cell_type": "code",
   "execution_count": 2113,
   "metadata": {},
   "outputs": [
    {
     "data": {
      "text/plain": [
       "array([ 4.5, 15. , 15. , 10.5, 10.5])"
      ]
     },
     "execution_count": 2113,
     "metadata": {},
     "output_type": "execute_result"
    }
   ],
   "source": [
    "sumLikeRecieved=like.cumsum(axis=0)[-1,:]\n",
    "scoreLike = np.array(np.where(sumLikeRecieved>(tweets/2),sumLikeRecieved*1.5,sumLikeRecieved))\n",
    "scoreLike"
   ]
  },
  {
   "attachments": {},
   "cell_type": "markdown",
   "metadata": {},
   "source": [
    "#### 4/- Score of each user :"
   ]
  },
  {
   "cell_type": "code",
   "execution_count": 2114,
   "metadata": {},
   "outputs": [
    {
     "data": {
      "text/plain": [
       "[{'user': 0, 'scoreTotal': -1.1666666666666667},\n",
       " {'user': 1, 'scoreTotal': 3.3333333333333335},\n",
       " {'user': 2, 'scoreTotal': 5.0},\n",
       " {'user': 3, 'scoreTotal': 5.666666666666667},\n",
       " {'user': 4, 'scoreTotal': 2.9166666666666665}]"
      ]
     },
     "execution_count": 2114,
     "metadata": {},
     "output_type": "execute_result"
    }
   ],
   "source": [
    "scoreUser = []\n",
    "for i,elem in enumerate(appUsers) :\n",
    "    scoreUser.append({\"user\":i,\"scoreTotal\":(scoreReply[i]+scoreRetweet[i]+scoreLike[i])/3})\n",
    "scoreUser"
   ]
  },
  {
   "attachments": {},
   "cell_type": "markdown",
   "metadata": {},
   "source": [
    "#### 5/- Score Total :"
   ]
  },
  {
   "cell_type": "code",
   "execution_count": 2115,
   "metadata": {},
   "outputs": [
    {
     "data": {
      "text/plain": [
       "3.15"
      ]
     },
     "execution_count": 2115,
     "metadata": {},
     "output_type": "execute_result"
    }
   ],
   "source": [
    "scoreTotal = (scoreLike.sum()/len(scoreLike)+scoreReply.sum()/len(scoreReply)+scoreRetweet.sum()/len(scoreRetweet))/3\n",
    "scoreTotal"
   ]
  }
 ],
 "metadata": {
  "kernelspec": {
   "display_name": "Python 3",
   "language": "python",
   "name": "python3"
  },
  "language_info": {
   "codemirror_mode": {
    "name": "ipython",
    "version": 3
   },
   "file_extension": ".py",
   "mimetype": "text/x-python",
   "name": "python",
   "nbconvert_exporter": "python",
   "pygments_lexer": "ipython3",
   "version": "3.10.10"
  },
  "orig_nbformat": 4,
  "vscode": {
   "interpreter": {
    "hash": "741d5eee97e172e08866a06d6368c45450c6453baeabc2fbbfa9f27c6de90fba"
   }
  }
 },
 "nbformat": 4,
 "nbformat_minor": 2
}
